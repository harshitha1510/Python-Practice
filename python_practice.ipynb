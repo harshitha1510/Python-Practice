{
  "cells": [
    {
      "cell_type": "markdown",
      "metadata": {
        "id": "view-in-github",
        "colab_type": "text"
      },
      "source": [
        "<a href=\"https://colab.research.google.com/github/harshitha1510/Python-Practice/blob/main/python_practice.ipynb\" target=\"_parent\"><img src=\"https://colab.research.google.com/assets/colab-badge.svg\" alt=\"Open In Colab\"/></a>"
      ]
    },
    {
      "cell_type": "markdown",
      "id": "8acc298e",
      "metadata": {
        "id": "8acc298e"
      },
      "source": [
        "## Variables and Data Types"
      ]
    },
    {
      "cell_type": "code",
      "execution_count": null,
      "id": "4d8c3acd",
      "metadata": {
        "id": "4d8c3acd"
      },
      "outputs": [],
      "source": [
        "x = 5  # Integer\n",
        "name = 'Alice'  # String\n",
        "pi = 3.14  # Float\n",
        "is_valid = True  # Boolean"
      ]
    },
    {
      "cell_type": "code",
      "execution_count": null,
      "id": "467336de",
      "metadata": {
        "id": "467336de"
      },
      "outputs": [],
      "source": [
        "a = 10\n",
        "b = 20\n",
        "sum_ab = a + b\n",
        "print(sum_ab)"
      ]
    },
    {
      "cell_type": "code",
      "execution_count": null,
      "id": "e1ca6134",
      "metadata": {
        "id": "e1ca6134"
      },
      "outputs": [],
      "source": [
        "my_string = 'Hello, World!'\n",
        "my_string_length = len(my_string)\n",
        "print(my_string_length)"
      ]
    },
    {
      "cell_type": "markdown",
      "id": "9fbe89c2",
      "metadata": {
        "id": "9fbe89c2"
      },
      "source": [
        "## Control Flow"
      ]
    },
    {
      "cell_type": "code",
      "execution_count": null,
      "id": "e19749d7",
      "metadata": {
        "id": "e19749d7"
      },
      "outputs": [],
      "source": [
        "if x > 3:\n",
        "    print('x is greater than 3')\n",
        "else:\n",
        "    print('x is less than or equal to 3')"
      ]
    },
    {
      "cell_type": "code",
      "execution_count": null,
      "id": "4f8bb08b",
      "metadata": {
        "id": "4f8bb08b"
      },
      "outputs": [],
      "source": [
        "for i in range(5):\n",
        "    print(i)"
      ]
    },
    {
      "cell_type": "code",
      "execution_count": null,
      "id": "8021ef9d",
      "metadata": {
        "id": "8021ef9d"
      },
      "outputs": [],
      "source": [
        "x = 7\n",
        "if x % 2 == 0:\n",
        "    print('Even')\n",
        "else:\n",
        "    print('Odd')"
      ]
    },
    {
      "cell_type": "markdown",
      "id": "4629de17",
      "metadata": {
        "id": "4629de17"
      },
      "source": [
        "## Functions"
      ]
    },
    {
      "cell_type": "code",
      "execution_count": null,
      "id": "fd30b3d1",
      "metadata": {
        "id": "fd30b3d1"
      },
      "outputs": [],
      "source": [
        "def greet(name):\n",
        "    return f'Hello, {name}!'\n",
        "greet('Alice')"
      ]
    },
    {
      "cell_type": "code",
      "execution_count": null,
      "id": "f064f0b6",
      "metadata": {
        "id": "f064f0b6"
      },
      "outputs": [],
      "source": [
        "def add(a, b):\n",
        "    return a + b\n",
        "add(5, 3)"
      ]
    },
    {
      "cell_type": "code",
      "execution_count": null,
      "id": "53fb1a79",
      "metadata": {
        "id": "53fb1a79"
      },
      "outputs": [],
      "source": [
        "def multiply(x, y):\n",
        "    return x * y\n",
        "multiply(3, 4)"
      ]
    },
    {
      "cell_type": "markdown",
      "id": "878aa2d9",
      "metadata": {
        "id": "878aa2d9"
      },
      "source": [
        "## Lists"
      ]
    },
    {
      "cell_type": "code",
      "execution_count": null,
      "id": "dba88513",
      "metadata": {
        "id": "dba88513"
      },
      "outputs": [],
      "source": [
        "fruits = ['apple', 'banana', 'cherry']\n",
        "fruits.append('orange')\n",
        "print(fruits)"
      ]
    },
    {
      "cell_type": "code",
      "execution_count": null,
      "id": "0ee7918e",
      "metadata": {
        "id": "0ee7918e"
      },
      "outputs": [],
      "source": [
        "numbers = [1, 2, 3, 4, 5]\n",
        "squares = [x**2 for x in numbers]\n",
        "print(squares)"
      ]
    },
    {
      "cell_type": "code",
      "execution_count": null,
      "id": "64957a0a",
      "metadata": {
        "id": "64957a0a"
      },
      "outputs": [],
      "source": [
        "list1 = [1, 2, 3]\n",
        "list2 = [4, 5, 6]\n",
        "merged_list = list1 + list2\n",
        "print(merged_list)"
      ]
    },
    {
      "cell_type": "markdown",
      "id": "24f3a414",
      "metadata": {
        "id": "24f3a414"
      },
      "source": [
        "## String Manipulation"
      ]
    },
    {
      "cell_type": "code",
      "execution_count": null,
      "id": "3ac00be2",
      "metadata": {
        "id": "3ac00be2"
      },
      "outputs": [],
      "source": [
        "sentence = 'Hello, how are you?'\n",
        "words = sentence.split()\n",
        "print(words)"
      ]
    },
    {
      "cell_type": "code",
      "execution_count": null,
      "id": "64f556d7",
      "metadata": {
        "id": "64f556d7"
      },
      "outputs": [],
      "source": [
        "text = 'python programming'\n",
        "uppercase = text.upper()\n",
        "print(uppercase)"
      ]
    },
    {
      "cell_type": "code",
      "execution_count": null,
      "id": "a2ae476c",
      "metadata": {
        "id": "a2ae476c"
      },
      "outputs": [],
      "source": [
        "phrase = '  This is a string with spaces  '\n",
        "cleaned = phrase.strip()\n",
        "print(cleaned)"
      ]
    },
    {
      "cell_type": "markdown",
      "id": "67ddffbb",
      "metadata": {
        "id": "67ddffbb"
      },
      "source": [
        "## Loops"
      ]
    },
    {
      "cell_type": "code",
      "execution_count": null,
      "id": "f0a8fdc0",
      "metadata": {
        "id": "f0a8fdc0"
      },
      "outputs": [],
      "source": [
        "for i in range(10):\n",
        "    print(i)"
      ]
    },
    {
      "cell_type": "code",
      "execution_count": null,
      "id": "e5d5f267",
      "metadata": {
        "id": "e5d5f267"
      },
      "outputs": [],
      "source": [
        "while x > 0:\n",
        "    print(x)\n",
        "    x -= 1"
      ]
    },
    {
      "cell_type": "code",
      "execution_count": null,
      "id": "ec790491",
      "metadata": {
        "id": "ec790491"
      },
      "outputs": [],
      "source": [
        "numbers = [1, 2, 3, 4, 5]\n",
        "for num in numbers:\n",
        "    print(num ** 2)"
      ]
    },
    {
      "cell_type": "markdown",
      "id": "ecf4a6ca",
      "metadata": {
        "id": "ecf4a6ca"
      },
      "source": [
        "## Dictionaries"
      ]
    },
    {
      "cell_type": "code",
      "execution_count": null,
      "id": "5b2688b2",
      "metadata": {
        "id": "5b2688b2"
      },
      "outputs": [],
      "source": [
        "person = {'name': 'Alice', 'age': 25}\n",
        "person['age'] = 26\n",
        "print(person)"
      ]
    },
    {
      "cell_type": "code",
      "execution_count": null,
      "id": "347f7891",
      "metadata": {
        "id": "347f7891"
      },
      "outputs": [],
      "source": [
        "student = {'name': 'John', 'grades': [85, 90, 88]}\n",
        "student['grades'].append(92)\n",
        "print(student)"
      ]
    },
    {
      "cell_type": "code",
      "execution_count": null,
      "id": "a72addd1",
      "metadata": {
        "id": "a72addd1"
      },
      "outputs": [],
      "source": [
        "my_dict = {'a': 1, 'b': 2}\n",
        "del my_dict['a']\n",
        "print(my_dict)"
      ]
    },
    {
      "cell_type": "markdown",
      "id": "a3f56345",
      "metadata": {
        "id": "a3f56345"
      },
      "source": [
        "## Tuples"
      ]
    },
    {
      "cell_type": "code",
      "execution_count": null,
      "id": "edd4d530",
      "metadata": {
        "id": "edd4d530"
      },
      "outputs": [],
      "source": [
        "coordinates = (3, 5)\n",
        "print(coordinates[0])"
      ]
    },
    {
      "cell_type": "code",
      "execution_count": null,
      "id": "1d87fc5f",
      "metadata": {
        "id": "1d87fc5f"
      },
      "outputs": [],
      "source": [
        "my_tuple = ('apple', 'banana', 'cherry')\n",
        "tuple_length = len(my_tuple)\n",
        "print(tuple_length)"
      ]
    },
    {
      "cell_type": "code",
      "execution_count": null,
      "id": "1f7aa46e",
      "metadata": {
        "id": "1f7aa46e"
      },
      "outputs": [],
      "source": [
        "person = ('Alice', 25, 'Engineer')\n",
        "print(f'{person[0]} is {person[1]} years old and works as a {person[2]}')"
      ]
    },
    {
      "cell_type": "markdown",
      "id": "4503dfaf",
      "metadata": {
        "id": "4503dfaf"
      },
      "source": [
        "## Sets"
      ]
    },
    {
      "cell_type": "code",
      "execution_count": null,
      "id": "5984a787",
      "metadata": {
        "id": "5984a787"
      },
      "outputs": [],
      "source": [
        "fruits = {'apple', 'banana', 'cherry'}\n",
        "fruits.add('orange')\n",
        "print(fruits)"
      ]
    },
    {
      "cell_type": "code",
      "execution_count": null,
      "id": "1c82543e",
      "metadata": {
        "id": "1c82543e"
      },
      "outputs": [],
      "source": [
        "numbers = {1, 2, 3, 4}\n",
        "print(3 in numbers)"
      ]
    },
    {
      "cell_type": "code",
      "execution_count": null,
      "id": "e95aaff6",
      "metadata": {
        "id": "e95aaff6"
      },
      "outputs": [],
      "source": [
        "set1 = {1, 2, 3}\n",
        "set2 = {3, 4, 5}\n",
        "intersection = set1 & set2\n",
        "print(intersection)"
      ]
    },
    {
      "cell_type": "markdown",
      "id": "a3cb2e7d",
      "metadata": {
        "id": "a3cb2e7d"
      },
      "source": [
        "## File I/O"
      ]
    },
    {
      "cell_type": "code",
      "execution_count": null,
      "id": "4e162dc6",
      "metadata": {
        "id": "4e162dc6"
      },
      "outputs": [],
      "source": [
        "with open('file.txt', 'w') as f:\n",
        "    f.write('Hello, file!')"
      ]
    },
    {
      "cell_type": "code",
      "execution_count": null,
      "id": "0267b370",
      "metadata": {
        "id": "0267b370"
      },
      "outputs": [],
      "source": [
        "with open('file.txt', 'r') as f:\n",
        "    content = f.read()\n",
        "    print(content)"
      ]
    },
    {
      "cell_type": "code",
      "execution_count": null,
      "id": "a199880d",
      "metadata": {
        "id": "a199880d"
      },
      "outputs": [],
      "source": [
        "with open('numbers.txt', 'w') as f:\n",
        "    for i in range(5):\n",
        "        f.write(f'{i}\n",
        "')"
      ]
    },
    {
      "cell_type": "markdown",
      "id": "2c2dd08e",
      "metadata": {
        "id": "2c2dd08e"
      },
      "source": [
        "## Comprehensions"
      ]
    },
    {
      "cell_type": "code",
      "execution_count": null,
      "id": "a063eaa8",
      "metadata": {
        "id": "a063eaa8"
      },
      "outputs": [],
      "source": [
        "squares = [x**2 for x in range(5)]\n",
        "print(squares)"
      ]
    },
    {
      "cell_type": "code",
      "execution_count": null,
      "id": "f600de55",
      "metadata": {
        "id": "f600de55"
      },
      "outputs": [],
      "source": [
        "odd_numbers = [x for x in range(10) if x % 2 != 0]\n",
        "print(odd_numbers)"
      ]
    },
    {
      "cell_type": "code",
      "execution_count": null,
      "id": "883dab84",
      "metadata": {
        "id": "883dab84"
      },
      "outputs": [],
      "source": [
        "cubes = {x: x**3 for x in range(5)}\n",
        "print(cubes)"
      ]
    },
    {
      "cell_type": "markdown",
      "id": "ae287421",
      "metadata": {
        "id": "ae287421"
      },
      "source": [
        "## Lambda Functions"
      ]
    },
    {
      "cell_type": "code",
      "execution_count": null,
      "id": "e858b65b",
      "metadata": {
        "id": "e858b65b"
      },
      "outputs": [],
      "source": [
        "add = lambda x, y: x + y\n",
        "result = add(3, 4)\n",
        "print(result)"
      ]
    },
    {
      "cell_type": "code",
      "execution_count": null,
      "id": "fe779e88",
      "metadata": {
        "id": "fe779e88"
      },
      "outputs": [],
      "source": [
        "square = lambda x: x**2\n",
        "print(square(5))"
      ]
    },
    {
      "cell_type": "code",
      "execution_count": null,
      "id": "f3c05ac0",
      "metadata": {
        "id": "f3c05ac0"
      },
      "outputs": [],
      "source": [
        "multiply = lambda x, y: x * y\n",
        "result = multiply(2, 3)\n",
        "print(result)"
      ]
    },
    {
      "cell_type": "markdown",
      "id": "35894def",
      "metadata": {
        "id": "35894def"
      },
      "source": [
        "## Exception Handling"
      ]
    },
    {
      "cell_type": "code",
      "execution_count": null,
      "id": "a0a1aef2",
      "metadata": {
        "id": "a0a1aef2"
      },
      "outputs": [],
      "source": [
        "try:\n",
        "    x = 1 / 0\n",
        "except ZeroDivisionError:\n",
        "    print('Cannot divide by zero!')"
      ]
    },
    {
      "cell_type": "code",
      "execution_count": null,
      "id": "0f63b01e",
      "metadata": {
        "id": "0f63b01e"
      },
      "outputs": [],
      "source": [
        "try:\n",
        "    value = int('abc')\n",
        "except ValueError:\n",
        "    print('Invalid input!')"
      ]
    },
    {
      "cell_type": "code",
      "execution_count": null,
      "id": "5657af1a",
      "metadata": {
        "id": "5657af1a"
      },
      "outputs": [],
      "source": [
        "try:\n",
        "    file = open('non_existent_file.txt', 'r')\n",
        "except FileNotFoundError:\n",
        "    print('File not found!')"
      ]
    }
  ],
  "metadata": {
    "colab": {
      "provenance": [],
      "include_colab_link": true
    }
  },
  "nbformat": 4,
  "nbformat_minor": 5
}